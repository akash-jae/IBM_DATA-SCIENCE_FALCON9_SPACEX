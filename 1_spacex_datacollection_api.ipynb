{
 "cells": [
  {
   "cell_type": "code",
   "execution_count": null,
   "id": "752648fb-2f0a-4498-ba66-42ca9e8f2579",
   "metadata": {},
   "outputs": [],
   "source": [
    "!pip install requests\n",
    "!pip install pandas\n",
    "!pip install numpy"
   ]
  },
  {
   "cell_type": "code",
   "execution_count": null,
   "id": "bc4541e3-1c7e-4098-a67e-583e532dd139",
   "metadata": {},
   "outputs": [],
   "source": [
    "import requests\n",
    "import pandas as pd\n",
    "import numpy as np\n",
    "import datetime"
   ]
  },
  {
   "cell_type": "code",
   "execution_count": null,
   "id": "5b8154c8-7574-48ee-9946-f47f80b288d2",
   "metadata": {},
   "outputs": [],
   "source": [
    "# Setting pandas options to display all columns\n",
    "pd.set_option('display.max_columns', None)\n",
    "pd.set_option('display.max_colwidth', None)"
   ]
  },
  {
   "cell_type": "code",
   "execution_count": null,
   "id": "f811d44d-3b09-4758-a320-686b4ce35c32",
   "metadata": {},
   "outputs": [],
   "source": [
    "# Define API URL\n",
    "spacex_url = \"https://api.spacexdata.com/v4/launches/past\""
   ]
  },
  {
   "cell_type": "code",
   "execution_count": null,
   "id": "ad72a7b6-abae-4bc5-8c01-21a6fa22d304",
   "metadata": {},
   "outputs": [],
   "source": [
    "# Request data from API\n",
    "response = requests.get(spacex_url)\n",
    "response.status_code  # Check if request was successful"
   ]
  },
  {
   "cell_type": "code",
   "execution_count": null,
   "id": "9efd9374-f5af-4185-919f-ff548567b6a3",
   "metadata": {},
   "outputs": [],
   "source": [
    "# Load static JSON file for consistent results\n",
    "static_json_url = 'https://cf-courses-data.s3.us.cloud-object-storage.appdomain.cloud/IBM-DS0321EN-SkillsNetwork/datasets/API_call_spacex_api.json'\n",
    "response = requests.get(static_json_url)\n",
    "data = pd.json_normalize(response.json())"
   ]
  },
  {
   "cell_type": "code",
   "execution_count": null,
   "id": "0309b7c4-826c-4243-aca9-2305d10aa0ae",
   "metadata": {},
   "outputs": [],
   "source": [
    "# Selecting relevant columns\n",
    "data = data[['rocket', 'payloads', 'launchpad', 'cores', 'flight_number', 'date_utc']]"
   ]
  },
  {
   "cell_type": "code",
   "execution_count": 30,
   "id": "bc4fbe8f-134b-4c00-8235-8d2738b18624",
   "metadata": {},
   "outputs": [],
   "source": [
    "# Removing rows with multiple cores or multiple payloads\n",
    "data = data[data['cores'].map(len) == 1]\n",
    "data = data[data['payloads'].map(len) == 1]\n",
    "data['cores'] = data['cores'].map(lambda x: x[0])\n",
    "data['payloads'] = data['payloads'].map(lambda x: x[0])\n",
    "data['date'] = pd.to_datetime(data['date_utc']).dt.date\n",
    "data = data[data['date'] <= datetime.date(2020, 11, 13)]"
   ]
  },
  {
   "cell_type": "code",
   "execution_count": 31,
   "id": "2d40deb5-4ecc-43bc-b995-4218c070898d",
   "metadata": {},
   "outputs": [],
   "source": [
    "# Initialize global lists\n",
    "BoosterVersion, PayloadMass, Orbit = [], [], []\n",
    "LaunchSite, Outcome, Flights = [], [], []\n",
    "GridFins, Reused, Legs, LandingPad = [], [], [], []\n",
    "Block, ReusedCount, Serial = [], [], []\n",
    "Longitude, Latitude = [], []"
   ]
  },
  {
   "cell_type": "code",
   "execution_count": 32,
   "id": "13b7ee80-b72d-40db-9a48-b44e0e835ec7",
   "metadata": {},
   "outputs": [],
   "source": [
    "# Define functions to extract information from API\n",
    "def getBoosterVersion(data):\n",
    "    for x in data['rocket']:\n",
    "        if x:\n",
    "            response = requests.get(f\"https://api.spacexdata.com/v4/rockets/{x}\").json()\n",
    "            BoosterVersion.append(response['name'])"
   ]
  },
  {
   "cell_type": "code",
   "execution_count": 33,
   "id": "00d92c71-948a-482a-934b-c30e34e14b92",
   "metadata": {},
   "outputs": [],
   "source": [
    "def getLaunchSite(data):\n",
    "    for x in data['launchpad']:\n",
    "        if x:\n",
    "            response = requests.get(f\"https://api.spacexdata.com/v4/launchpads/{x}\").json()\n",
    "            Longitude.append(response['longitude'])\n",
    "            Latitude.append(response['latitude'])\n",
    "            LaunchSite.append(response['name'])"
   ]
  },
  {
   "cell_type": "code",
   "execution_count": 34,
   "id": "d3438167-8145-4da7-ae19-b1bc5b874188",
   "metadata": {},
   "outputs": [],
   "source": [
    "def getPayloadData(data):\n",
    "    for load in data['payloads']:\n",
    "        if load:\n",
    "            response = requests.get(f\"https://api.spacexdata.com/v4/payloads/{load}\").json()\n",
    "            PayloadMass.append(response['mass_kg'])\n",
    "            Orbit.append(response['orbit'])"
   ]
  },
  {
   "cell_type": "code",
   "execution_count": 35,
   "id": "c69b4916-f296-4d8c-a7bd-76739b911792",
   "metadata": {},
   "outputs": [],
   "source": [
    "def getCoreData(data):\n",
    "    for core in data['cores']:\n",
    "        if core['core'] is not None:\n",
    "            response = requests.get(f\"https://api.spacexdata.com/v4/cores/{core['core']}\").json()\n",
    "            Block.append(response.get('block', None))\n",
    "            ReusedCount.append(response.get('reuse_count', None))\n",
    "            Serial.append(response.get('serial', None))\n",
    "        else:\n",
    "            Block.append(None)\n",
    "            ReusedCount.append(None)\n",
    "            Serial.append(None)\n",
    "        Outcome.append(str(core['landing_success']) + ' ' + str(core['landing_type']))\n",
    "        Flights.append(core['flight'])\n",
    "        GridFins.append(core['gridfins'])\n",
    "        Reused.append(core['reused'])\n",
    "        Legs.append(core['legs'])\n",
    "        LandingPad.append(core['landpad'])"
   ]
  },
  {
   "cell_type": "code",
   "execution_count": null,
   "id": "46785125-6be6-4a5b-ba41-9647fe95c653",
   "metadata": {},
   "outputs": [],
   "source": [
    "# Apply functions to fetch additional data\n",
    "getBoosterVersion(data)\n",
    "getLaunchSite(data)\n",
    "getPayloadData(data)\n",
    "getCoreData(data)"
   ]
  },
  {
   "cell_type": "code",
   "execution_count": null,
   "id": "8837aebc-0e73-4a6f-8804-436f12163502",
   "metadata": {},
   "outputs": [],
   "source": [
    "# Create DataFrame from collected data\n",
    "launch_dict = {\n",
    "    'FlightNumber': list(data['flight_number']),\n",
    "    'Date': list(data['date']),\n",
    "    'BoosterVersion': BoosterVersion,\n",
    "    'PayloadMass': PayloadMass,\n",
    "    'Orbit': Orbit,\n",
    "    'LaunchSite': LaunchSite,\n",
    "    'Outcome': Outcome,\n",
    "    'Flights': Flights,\n",
    "    'GridFins': GridFins,\n",
    "    'Reused': Reused,\n",
    "    'Legs': Legs,\n",
    "    'LandingPad': LandingPad,\n",
    "    'Block': Block,\n",
    "    'ReusedCount': ReusedCount,\n",
    "    'Serial': Serial,\n",
    "    'Longitude': Longitude,\n",
    "    'Latitude': Latitude\n",
    "}\n"
   ]
  },
  {
   "cell_type": "code",
   "execution_count": null,
   "id": "0f418b56-f8b4-4bae-b799-5268ab796eef",
   "metadata": {},
   "outputs": [],
   "source": [
    "launch_df = pd.DataFrame(launch_dict)"
   ]
  },
  {
   "cell_type": "code",
   "execution_count": null,
   "id": "93317d2a-dede-4921-8262-421b2a3d5e64",
   "metadata": {},
   "outputs": [],
   "source": [
    "# Filter only Falcon 9 launches\n",
    "data_falcon9 = launch_df[launch_df['BoosterVersion'] != 'Falcon 1']"
   ]
  },
  {
   "cell_type": "code",
   "execution_count": null,
   "id": "8ce62bd4-ea23-46dd-b681-6f50711dbece",
   "metadata": {},
   "outputs": [],
   "source": [
    "# Reset FlightNumber column\n",
    "data_falcon9.loc[:, 'FlightNumber'] = list(range(1, data_falcon9.shape[0] + 1))"
   ]
  },
  {
   "cell_type": "code",
   "execution_count": null,
   "id": "c8ed35bc-5bf7-49b4-b95d-23ea38a8afe2",
   "metadata": {},
   "outputs": [],
   "source": [
    "# Handle missing values in PayloadMass\n",
    "data_falcon9['PayloadMass'].fillna(data_falcon9['PayloadMass'].mean(), inplace=True)"
   ]
  },
  {
   "cell_type": "code",
   "execution_count": null,
   "id": "5317e0d8-2342-42a9-a2ab-8c453eaa6393",
   "metadata": {},
   "outputs": [],
   "source": [
    "# Save to CSV\n",
    "data_falcon9.to_csv('dataset_part_1.csv', index=False)"
   ]
  },
  {
   "cell_type": "code",
   "execution_count": null,
   "id": "8df5daa0-1614-4c47-8c17-9d0ddf52ba3c",
   "metadata": {},
   "outputs": [],
   "source": [
    "# Display first few rows\n",
    "data_falcon9.head()"
   ]
  },
  {
   "cell_type": "code",
   "execution_count": null,
   "id": "4a2336c6-86a6-42c6-ac71-d4bfd55ea2c6",
   "metadata": {},
   "outputs": [],
   "source": [
    "data_falcon9.head()"
   ]
  },
  {
   "cell_type": "code",
   "execution_count": null,
   "id": "e5414735-b3d9-4d0a-8b38-2ef835e670e9",
   "metadata": {},
   "outputs": [],
   "source": []
  }
 ],
 "metadata": {
  "kernelspec": {
   "display_name": "Python 3 (ipykernel)",
   "language": "python",
   "name": "python3"
  },
  "language_info": {
   "codemirror_mode": {
    "name": "ipython",
    "version": 3
   },
   "file_extension": ".py",
   "mimetype": "text/x-python",
   "name": "python",
   "nbconvert_exporter": "python",
   "pygments_lexer": "ipython3",
   "version": "3.12.4"
  }
 },
 "nbformat": 4,
 "nbformat_minor": 5
}
