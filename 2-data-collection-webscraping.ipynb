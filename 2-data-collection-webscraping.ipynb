{
 "cells": [
  {
   "cell_type": "code",
   "execution_count": 1,
   "id": "337babe5-5f7f-4baa-bad7-931e6e8422da",
   "metadata": {},
   "outputs": [],
   "source": [
    "import requests\n",
    "from bs4 import BeautifulSoup\n",
    "import pandas as pd\n",
    "import unicodedata"
   ]
  },
  {
   "cell_type": "code",
   "execution_count": 2,
   "id": "ca7a6e3b-1bd8-4198-918a-9ba9b1ffeac8",
   "metadata": {},
   "outputs": [],
   "source": [
    "def date_time(table_cells):\n",
    "    return [data_time.strip() for data_time in list(table_cells.strings)][0:2]"
   ]
  },
  {
   "cell_type": "code",
   "execution_count": 3,
   "id": "695e0c4f-9241-432e-9ee4-97f9af7ff533",
   "metadata": {},
   "outputs": [],
   "source": [
    "def booster_version(table_cells):\n",
    "    out = ''.join([booster_version for i, booster_version in enumerate(table_cells.strings) if i % 2 == 0][0:-1])\n",
    "    return out"
   ]
  },
  {
   "cell_type": "code",
   "execution_count": 4,
   "id": "65a416e3-bd4b-4c42-aced-866be34dc7d4",
   "metadata": {},
   "outputs": [],
   "source": [
    "def landing_status(table_cells):\n",
    "    out = [i for i in table_cells.strings][0]\n",
    "    return out"
   ]
  },
  {
   "cell_type": "code",
   "execution_count": 5,
   "id": "5887b013-e66b-48b2-9555-6a966d4595a7",
   "metadata": {},
   "outputs": [],
   "source": [
    "def get_mass(table_cells):\n",
    "    mass = unicodedata.normalize(\"NFKD\", table_cells.text).strip()\n",
    "    if mass:\n",
    "        mass.find(\"kg\")\n",
    "        new_mass = mass[0:mass.find(\"kg\") + 2]\n",
    "    else:\n",
    "        new_mass = 0\n",
    "    return new_mass"
   ]
  },
  {
   "cell_type": "code",
   "execution_count": 6,
   "id": "144d4e3a-6341-4baa-b250-ab03469d2209",
   "metadata": {},
   "outputs": [],
   "source": [
    "def extract_column_from_header(row):\n",
    "    if row.br:\n",
    "        row.br.extract()\n",
    "    if row.a:\n",
    "        row.a.extract()\n",
    "    if row.sup:\n",
    "        row.sup.extract()\n",
    "    column_name = ' '.join(row.contents)\n",
    "    if not column_name.strip().isdigit():\n",
    "        column_name = column_name.strip()\n",
    "    return column_name"
   ]
  },
  {
   "cell_type": "code",
   "execution_count": 7,
   "id": "2b7fff52-6274-4eb3-8d57-34501da2b05a",
   "metadata": {},
   "outputs": [],
   "source": [
    "# Wikipedia snapshot URL\n",
    "static_url = \"https://en.wikipedia.org/w/index.php?title=List_of_Falcon_9_and_Falcon_Heavy_launches&oldid=1027686922\"\n",
    "\n",
    "# Request HTML page\n",
    "response = requests.get(static_url)\n",
    "soup = BeautifulSoup(response.text, 'html.parser')\n",
    "\n",
    "# Extract tables\n",
    "html_tables = soup.find_all('table', {\"class\": \"wikitable plainrowheaders collapsible\"})\n",
    "first_launch_table = html_tables[2]\n",
    "\n",
    "# Extract column names\n",
    "column_names = []\n",
    "for th in first_launch_table.find_all('th'):\n",
    "    name = extract_column_from_header(th)\n",
    "    if name is not None and len(name) > 0:\n",
    "        column_names.append(name)\n"
   ]
  },
  {
   "cell_type": "code",
   "execution_count": 8,
   "id": "b0cc455c-ffda-4e83-9a5d-844c9bf8a9d7",
   "metadata": {},
   "outputs": [],
   "source": [
    "# Create dictionary for DataFrame\n",
    "launch_dict = dict.fromkeys(column_names)\n",
    "del launch_dict['Date and time ( )']\n",
    "launch_dict['Flight No.'] = []\n",
    "launch_dict['Launch site'] = []\n",
    "launch_dict['Payload'] = []\n",
    "launch_dict['Payload mass'] = []\n",
    "launch_dict['Orbit'] = []\n",
    "launch_dict['Customer'] = []\n",
    "launch_dict['Launch outcome'] = []\n",
    "launch_dict['Version Booster'] = []\n",
    "launch_dict['Booster landing'] = []\n",
    "launch_dict['Date'] = []\n",
    "launch_dict['Time'] = []"
   ]
  },
  {
   "cell_type": "code",
   "execution_count": 10,
   "id": "78f22666-3405-46e7-9066-86845fd4be91",
   "metadata": {},
   "outputs": [],
   "source": [
    "# Extract table rows\n",
    "extracted_row = 0\n",
    "\n",
    "for table_number, table in enumerate(html_tables):\n",
    "    for rows in table.find_all(\"tr\"):\n",
    "        if rows.th:\n",
    "            if rows.th.string:\n",
    "                flight_number = rows.th.string.strip()\n",
    "                flag = flight_number.isdigit()\n",
    "            else:\n",
    "                flag = False\n",
    "        \n",
    "        row = rows.find_all('td')\n",
    "\n",
    "        # Ensure row has enough elements to prevent IndexError\n",
    "        if flag and len(row) >= 9:\n",
    "            extracted_row += 1\n",
    "            launch_dict['Flight No.'].append(flight_number)\n",
    "            \n",
    "            # Extract Date and Time\n",
    "            datatimelist = date_time(row[0])\n",
    "            launch_dict['Date'].append(datatimelist[0].strip(',') if len(datatimelist) > 0 else 'N/A')\n",
    "            launch_dict['Time'].append(datatimelist[1] if len(datatimelist) > 1 else 'N/A')\n",
    "\n",
    "            # Extract Booster Version\n",
    "            bv = booster_version(row[1]) if len(row) > 1 else 'N/A'\n",
    "            if not bv and row[1].a:\n",
    "                bv = row[1].a.string\n",
    "            launch_dict['Version Booster'].append(bv)\n",
    "\n",
    "            # Extract Other Data\n",
    "            launch_dict['Launch site'].append(row[2].a.string if len(row) > 2 and row[2].a else 'N/A')\n",
    "            launch_dict['Payload'].append(row[3].a.string if len(row) > 3 and row[3].a else 'N/A')\n",
    "            launch_dict['Payload mass'].append(get_mass(row[4]) if len(row) > 4 else 'N/A')\n",
    "            launch_dict['Orbit'].append(row[5].a.string if len(row) > 5 and row[5].a else 'N/A')\n",
    "            launch_dict['Customer'].append(row[6].a.string if len(row) > 6 and row[6].a else 'N/A')\n",
    "            launch_dict['Launch outcome'].append(list(row[7].strings)[0] if len(row) > 7 else 'N/A')\n",
    "            launch_dict['Booster landing'].append(landing_status(row[8]) if len(row) > 8 else 'N/A')\n",
    "\n",
    "# Convert dictionary to DataFrame\n",
    "df = pd.DataFrame({key: pd.Series(value) for key, value in launch_dict.items()})\n",
    "\n",
    "# Save DataFrame to CSV\n",
    "df.to_csv('spacex_web_scraped.csv', index=False)\n"
   ]
  },
  {
   "cell_type": "code",
   "execution_count": 11,
   "id": "911907c4-a183-403b-88f0-61bc95dae273",
   "metadata": {},
   "outputs": [],
   "source": [
    "# Create DataFrame\n",
    "df = pd.DataFrame({key: pd.Series(value) for key, value in launch_dict.items()})"
   ]
  },
  {
   "cell_type": "code",
   "execution_count": 12,
   "id": "ccf92fdf-f18f-413e-8618-cdd3b4cb19c2",
   "metadata": {},
   "outputs": [
    {
     "name": "stdout",
     "output_type": "stream",
     "text": [
      "CSV file 'spacex_web_scraped.csv' has been successfully created.\n"
     ]
    }
   ],
   "source": [
    "# Save DataFrame to CSV\n",
    "df.to_csv('spacex_web_scraped.csv', index=False)\n",
    "print(\"CSV file 'spacex_web_scraped.csv' has been successfully created.\")"
   ]
  },
  {
   "cell_type": "code",
   "execution_count": null,
   "id": "ec87532e-a5c9-4395-b83a-252062dbd453",
   "metadata": {},
   "outputs": [],
   "source": []
  }
 ],
 "metadata": {
  "kernelspec": {
   "display_name": "Python 3 (ipykernel)",
   "language": "python",
   "name": "python3"
  },
  "language_info": {
   "codemirror_mode": {
    "name": "ipython",
    "version": 3
   },
   "file_extension": ".py",
   "mimetype": "text/x-python",
   "name": "python",
   "nbconvert_exporter": "python",
   "pygments_lexer": "ipython3",
   "version": "3.12.4"
  }
 },
 "nbformat": 4,
 "nbformat_minor": 5
}
